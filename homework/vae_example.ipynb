{
 "cells": [
  {
   "cell_type": "markdown",
   "metadata": {},
   "source": [
    "# VAE on MINIST dataset"
   ]
  },
  {
   "cell_type": "markdown",
   "metadata": {},
   "source": [
    "In this homework, we play with VAE model on the MNIST dataset. The materials are from https://github.com/pytorch/examples/blob/master/vae/main.py.\n",
    "\n",
    "- We use python 3.0\n",
    "- With more explanations"
   ]
  },
  {
   "cell_type": "code",
   "execution_count": 34,
   "metadata": {},
   "outputs": [],
   "source": [
    "# load the modules\n",
    "\n",
    "## load pytorch module\n",
    "import torch\n",
    "\n",
    "## load torch data manager: Dataset, DataLoader\n",
    "from torch.utils.data import Dataset, DataLoader\n",
    "\n",
    "## load neural network module\n",
    "from torch import nn\n",
    "from torch.nn import functional as F\n",
    "\n",
    "## load optimizer\n",
    "from torch import optim\n",
    "\n",
    "## load modules for MNIST dataset\n",
    "from torchvision import datasets, transforms\n",
    "from torchvision.utils import save_image\n",
    "\n",
    "## load other python modules\n",
    "### plt to view the image\n",
    "import matplotlib.pyplot as plt"
   ]
  },
  {
   "cell_type": "markdown",
   "metadata": {},
   "source": [
    "### load MNIST dataset"
   ]
  },
  {
   "cell_type": "code",
   "execution_count": 18,
   "metadata": {},
   "outputs": [
    {
     "name": "stdout",
     "output_type": "stream",
     "text": [
      "Dataset MNIST\n",
      "    Number of datapoints: 60000\n",
      "    Root location: ./data\n",
      "    Split: Train\n",
      "    StandardTransform\n",
      "Transform: ToTensor()\n",
      "torch.Size([1, 28, 28])\n",
      "5\n"
     ]
    }
   ],
   "source": [
    "## download MNIST trainign dataset \n",
    "train_dataset: Dataset = datasets.MNIST(\"./data\", train = True, download = True,\n",
    "                                       transform = transforms.ToTensor())\n",
    "## class Dataset provides:\n",
    "## - function \"__len__\": to get the size of the dataset\n",
    "## - function \"__getitem__\": to get the data point by the index\n",
    "\n",
    "## show the data size\n",
    "print(train_dataset)\n",
    "## show one data point\n",
    "## each data point has two element: one is the image, one is which number it is.\n",
    "\n",
    "## print the tensor size: (1, 28, 28): \n",
    "## the first dim: 1 is the number of channel (only one) here\n",
    "## the second and third dim: the width and height for this channel.\n",
    "print(train_dataset[0][0].shape)\n",
    "\n",
    "## print the number\n",
    "print(train_dataset[0][1])"
   ]
  },
  {
   "cell_type": "code",
   "execution_count": 24,
   "metadata": {},
   "outputs": [
    {
     "data": {
      "text/plain": [
       "<matplotlib.image.AxesImage at 0x7f8749393e50>"
      ]
     },
     "execution_count": 24,
     "metadata": {},
     "output_type": "execute_result"
    },
    {
     "data": {
      "image/png": "[encoded data removed]",
      "text/plain": [
       "<Figure size 432x288 with 1 Axes>"
      ]
     },
     "metadata": {
      "needs_background": "light"
     },
     "output_type": "display_data"
    }
   ],
   "source": [
    "## let's view this image\n",
    "plt.imshow(train_dataset[0][0][0])"
   ]
  },
  {
   "cell_type": "markdown",
   "metadata": {},
   "source": [
    "### Use Dataloader to wrap up the dataset\n",
    "\n",
    "During the learning process, we will use stochasitic optmization, which means we will shuffle the sample, and put a small part of the dataset into the optimizer. You can do this by yourself, but pytorch actually provides the data manager named Dataloader to simplify this process, and it is usually used together with the Dataset class."
   ]
  },
  {
   "cell_type": "code",
   "execution_count": 23,
   "metadata": {},
   "outputs": [],
   "source": [
    "## you can choose whatever batch_size you want.\n",
    "## shuffle = True, means every epoch, we will shuffle the samplers \n",
    "## by the sampling algorithm you or the default one.\n",
    "train_loader = DataLoader(train_dataset, batch_size = 32, shuffle = True)\n",
    "## we don't need to shuffle the samples during test.\n",
    "test_loader = DataLoader(test_dataset, batch_size = 32, shuffle = False)"
   ]
  },
  {
   "cell_type": "markdown",
   "metadata": {},
   "source": [
    "## VAE "
   ]
  },
  {
   "cell_type": "code",
   "execution_count": 48,
   "metadata": {},
   "outputs": [
    {
     "name": "stdout",
     "output_type": "stream",
     "text": [
      "VAE(\n",
      "  (fc1): Linear(in_features=784, out_features=400, bias=True)\n",
      "  (fc21): Linear(in_features=400, out_features=20, bias=True)\n",
      "  (fc22): Linear(in_features=400, out_features=20, bias=True)\n",
      "  (fc3): Linear(in_features=20, out_features=400, bias=True)\n",
      "  (fc4): Linear(in_features=400, out_features=784, bias=True)\n",
      ")\n"
     ]
    }
   ],
   "source": [
    "## All the neural networks are implemented as the class of nn.Module in pytorch.\n",
    "## It need to provide the function named \"forward\" to declare how it transform a tensor.\n",
    "\n",
    "class VAE(nn.Module):\n",
    "    ## __init__ is the basic syntax in python. when you want to describe a class, you need this \n",
    "    ## to tell python how to initialize this class.\n",
    "    def __init__(self):\n",
    "        ## all the modules need this firstly to initialize itself.\n",
    "        super().__init__()\n",
    "        ## then we define several neural network structure\n",
    "        \n",
    "        ## pytorch provides lots of neural network structures under the nn module. you can check it yourself.\n",
    "        ## here we just use the simpliest linear transformation\n",
    "        \n",
    "        ## [QUESTION]: why we use the numebr 784 here?\n",
    "        \n",
    "        ## this linear transformation is a typical one-layer fully connected neural network\n",
    "        ## with input dim 784, and output dim 400.\n",
    "        \n",
    "        ## [QUESTION]: how many parameters we use for the five fully connected neural networks? \n",
    "        self.fc1 = nn.Linear(784, 400)\n",
    "        self.fc21 = nn.Linear(400, 20)\n",
    "        self.fc22 = nn.Linear(400, 20)\n",
    "        self.fc3 = nn.Linear(20, 400)\n",
    "        self.fc4 = nn.Linear(400, 784)\n",
    "        \n",
    "    ## now let's move forward to implement the VAE, a typical VAE involves\n",
    "    ## - an encoder: define q(z|x), i.e., the mean and variance of the Gaussian distribution\n",
    "    ## - a decoder: defile p(x|z)\n",
    "    ## - the implementation of reparameterization\n",
    "    \n",
    "    def encode(self, x):\n",
    "        ## generate the mean and log of the variance of q(z|x)\n",
    "        ## we assume that z_i and z_j are independent for any z_i, z_j \\in z and i != j\n",
    "        h1 = F.relu(self.fc1(x))\n",
    "        \n",
    "        ## [QUESTION]: what's dimention or size of the two outputs? \n",
    "        return self.fc21(h1), self.fc22(h1)\n",
    "    \n",
    "    def reparameterize(self, mu, logvar):    \n",
    "        std = torch.exp(0.5*logvar)\n",
    "        \n",
    "        ## we sample the eps from a standard normal distribution, \n",
    "        ## whose shape or dimention is the same as std\n",
    "        \n",
    "        ## [QUESTION]: do you know how many samples we use to approxmate the derivates of ELBO\n",
    "        ## base on the expression below? \n",
    "        eps = torch.randn_like(std)\n",
    "        \n",
    "        ## [QUESTION]: why we need to do the reparameterization?\n",
    "        return mu + eps*std\n",
    "    \n",
    "    def decode(self, z):\n",
    "        h3 = F.relu(self.fc3(z))\n",
    "        ## [QUESTION]: do you know what's the p(x/z) is used here?\n",
    "        return torch.sigmoid(self.fc4(h3))\n",
    "    \n",
    "    def forward(self, x):\n",
    "        ## x is a typical mini-batch samples.\n",
    "        ## view function is used to re-define the dimension of x in order to output the  \n",
    "        mu, logvar = self.encode(x.view(-1, 784))\n",
    "        z = self.reparameterize(mu, logvar)\n",
    "        return self.decode(z), mu, logvar  \n",
    "    \n",
    "model = VAE()\n",
    "print(model)"
   ]
  },
  {
   "cell_type": "markdown",
   "metadata": {},
   "source": [
    "## Define the loss function"
   ]
  },
  {
   "cell_type": "code",
   "execution_count": 49,
   "metadata": {},
   "outputs": [],
   "source": [
    "## Now let's define the loss function of VAE. \n",
    "## There are two parts:\n",
    "## - the loss of reconstructio, i.e., - p(x|z)\n",
    "## - the KL divergence towards the prior, i.e., KL(q(z|x) ||  p(z))\n",
    "\n",
    "## binary cross entropy loss\n",
    "reconst_loss = nn.BCELoss(reduction = 'sum')\n",
    "\n",
    "def loss_function(recon_x, x, mu, logvar):\n",
    "    rcloss = reconst_loss(recon_x, x.view(-1, 784))\n",
    "    ## analytic formulation of KL divergence of Gaussian distribution. \n",
    "    kld = -0.5 * torch.sum(1 + logvar - mu.pow(2) - logvar.exp())\n",
    "    return rcloss + kld"
   ]
  },
  {
   "cell_type": "markdown",
   "metadata": {},
   "source": [
    "## Select the optimizer"
   ]
  },
  {
   "cell_type": "code",
   "execution_count": 60,
   "metadata": {},
   "outputs": [],
   "source": [
    "## lots of the optimizers you can select in torch.\n",
    "## nowadays, people use Adam a lot.\n",
    "## An interesting thing: the first author of Adam is the same first author of VAE.\n",
    "optimizer = optim.Adam(model.parameters(), lr = 1e-3)"
   ]
  },
  {
   "cell_type": "markdown",
   "metadata": {},
   "source": [
    "## Let's start to train VAE!"
   ]
  },
  {
   "cell_type": "code",
   "execution_count": 61,
   "metadata": {},
   "outputs": [],
   "source": [
    "## Epoch: once we run through all the samples in the training dataset, we finish one epoch. \n",
    "def train(epoch):\n",
    "    ## [IMPORTANT]: in pytorch, model will update the parameters when it's in training state.\n",
    "    model.train()\n",
    "    train_loss = 0\n",
    "    ## we ignore the labels of MNIST, and only use the images.\n",
    "    for batch_id, (x, _) in enumerate(train_loader):\n",
    "        ## [IMPORTANT]: each differentiable tensor in pytorch will recognize the previous gradient.\n",
    "        ## so we have to set them as zeros before we compute next time.\n",
    "        optimizer.zero_grad()\n",
    "        \n",
    "        recon_batch, mu, logvar = model(x)\n",
    "        loss = loss_function(recon_batch, x, mu, logvar)\n",
    "        \n",
    "        ## we do the back propagation on the tensor generated by the loss function.\n",
    "        loss.backward()\n",
    "        \n",
    "        ## then update the parameters by the optmizer.\n",
    "        optimizer.step()\n",
    "        \n",
    "        ## let's remember the loss\n",
    "        train_loss += loss.item()\n",
    "        \n",
    "        ## print the loss\n",
    "        if batch_id % 500 == 0:\n",
    "            print(f\"Train Epoch {epoch} [{batch_id}]: loss {loss.item() / len(x)}\")\n",
    "    print(f\"Epoch: {epoch} average loss: {train_loss / len(train_loader.dataset)}\")\n",
    "\n",
    "        "
   ]
  },
  {
   "cell_type": "code",
   "execution_count": null,
   "metadata": {},
   "outputs": [
    {
     "name": "stdout",
     "output_type": "stream",
     "text": [
      "Train Epoch 0 [0]: loss 111.1076889038086\n"
     ]
    }
   ],
   "source": [
    "for epoch in range(10):\n",
    "    train(epoch)\n"
   ]
  }
 ],
 "metadata": {
  "kernelspec": {
   "display_name": "Python 3",
   "language": "python",
   "name": "python3"
  },
  "language_info": {
   "codemirror_mode": {
    "name": "ipython",
    "version": 3
   },
   "file_extension": ".py",
   "mimetype": "text/x-python",
   "name": "python",
   "nbconvert_exporter": "python",
   "pygments_lexer": "ipython3",
   "version": "3.8.5"
  }
 },
 "nbformat": 4,
 "nbformat_minor": 4
}
